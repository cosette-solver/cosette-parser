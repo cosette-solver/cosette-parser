{
 "cells": [
  {
   "cell_type": "code",
   "execution_count": 1,
   "metadata": {},
   "outputs": [],
   "source": [
    "import os\n",
    "import json\n",
    "import re"
   ]
  },
  {
   "cell_type": "code",
   "execution_count": 2,
   "metadata": {},
   "outputs": [],
   "source": [
    "questions = [\"query_q1a\", \"query_q1b\", \"query_q1c\", \"query_q1d\", \"query_q2a\", \"query_q2b\", \"query_q2c\"]\n",
    "queries = [[] for q in questions]\n",
    "for nb_file in os.listdir():\n",
    "    if not nb_file.endswith(\".ipynb\") or nb_file.startswith(\"get\"):\n",
    "        continue\n",
    "    query_q1as = []\n",
    "    with open(nb_file) as f:\n",
    "        nb = f.read().replace(\"\\n\",\"\").replace(\"\\\"\", \"\")\n",
    "        for question, query_list in zip(questions, queries):\n",
    "            query = re.findall(question + \"\\s*?=\\s*?'''(.+?)'''\", nb)\n",
    "            query = query[0].replace(\"\\\\n,\", \"\")\n",
    "            query = ' '.join(query.split())\n",
    "            query_list.append(query)\n",
    "        "
   ]
  },
  {
   "cell_type": "code",
   "execution_count": 3,
   "metadata": {},
   "outputs": [],
   "source": [
    "q1a, q1b, q1c, q1d, q2a, q2b, q2c = queries"
   ]
  },
  {
   "cell_type": "code",
   "execution_count": 5,
   "metadata": {},
   "outputs": [
    {
     "data": {
      "text/plain": [
       "[\"SELECT cmte_id, transaction_amt, name FROM indiv_sample_nyc WHERE name LIKE '%TRUMP%' AND name LIKE '%DONALD%'\",\n",
       " \"SELECT cmte_id, transaction_amt, name FROM indiv_sample_nyc WHERE name LIKE '%TRUMP%' AND name LIKE '%DONALD%'\",\n",
       " \"SELECT cmte_id, transaction_amt, name FROM indiv_sample_nyc WHERE name LIKE '%TRUMP%' AND name LIKE '%DONALD%'\",\n",
       " \"SELECT cmte_id, transaction_amt, name FROM indiv_sample_nyc WHERE name LIKE '%TRUMP%' AND name LIKE '%DONALD%'\",\n",
       " \"SELECT name, cmte_id, transaction_amt FROM indiv_sample_nyc WHERE name LIKE '%TRUMP%' AND name LIKE '%DONALD%'\",\n",
       " \"SELECT cmte_id, transaction_amt, name FROM indiv_sample_nyc WHERE name LIKE '%TRUMP%' AND name LIKE '%DONALD%'\",\n",
       " \"SELECT cmte_id, transaction_amt, name FROM indiv_sample_nyc WHERE name LIKE '%TRUMP%' AND name LIKE '%DONALD%'\",\n",
       " \"SELECT cmte_id,transaction_amt, name FROM indiv_sample_nyc WHERE name LIKE '%TRUMP%' AND name LIKE '%DONALD%'\",\n",
       " \"SELECT cmte_id, transaction_amt, name FROM indiv_sample_nyc WHERE name LIKE '%TRUMP%' and name LIKE '%DONALD%'\",\n",
       " \"SELECT cmte_id, transaction_amt, name FROM indiv_sample_nyc WHERE name LIKE '%TRUMP%' AND name LIKE '%DONALD%'\",\n",
       " \"SELECT cmte_id, transaction_amt, name FROM indiv_sample_nyc WHERE name LIKE '%TRUMP%' AND name LIKE '%DONALD%'\",\n",
       " \"SELECT cmte_id, transaction_amt, name FROM indiv_sample_nyc WHERE name LIKE '%TRUMP%' AND name LIKE '%DONALD%'\",\n",
       " \"SELECT cmte_id, transaction_amt, name FROM indiv_sample_nyc WHERE name LIKE '%TRUMP%'AND name LIKE '%DONALD%'\",\n",
       " \"SELECT cmte_id, transaction_amt, name FROM indiv_sample_nyc WHERE name LIKE '%TRUMP%' AND name LIKE '%DONALD%'\",\n",
       " \"SELECT cmte_id, transaction_amt, name FROM indiv_sample_nyc WHERE name LIKE '%TRUMP%' AND name LIKE '%DONALD%'\"]"
      ]
     },
     "execution_count": 5,
     "metadata": {},
     "output_type": "execute_result"
    }
   ],
   "source": [
    "q1a"
   ]
  },
  {
   "cell_type": "code",
   "execution_count": null,
   "metadata": {},
   "outputs": [],
   "source": []
  }
 ],
 "metadata": {
  "kernelspec": {
   "display_name": "Python 3",
   "language": "python",
   "name": "python3"
  },
  "language_info": {
   "codemirror_mode": {
    "name": "ipython",
    "version": 3
   },
   "file_extension": ".py",
   "mimetype": "text/x-python",
   "name": "python",
   "nbconvert_exporter": "python",
   "pygments_lexer": "ipython3",
   "version": "3.8.1"
  }
 },
 "nbformat": 4,
 "nbformat_minor": 4
}
