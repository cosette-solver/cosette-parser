{
 "cells": [
  {
   "cell_type": "code",
   "execution_count": 15,
   "metadata": {},
   "outputs": [],
   "source": [
    "import os\n",
    "import json\n",
    "import re"
   ]
  },
  {
   "cell_type": "code",
   "execution_count": 53,
   "metadata": {},
   "outputs": [],
   "source": [
    "questions = [\"query_q1a\", \"query_q1b\", \"query_q1c\", \"query_q1d\", \"query_q2a\", \"query_q2b\", \"query_q2c\"]\n",
    "queries = [[] for q in questions]\n",
    "for nb_file in os.listdir():\n",
    "    if not nb_file.endswith(\".ipynb\") or nb_file.startswith(\"get\"):\n",
    "        continue\n",
    "    query_q1as = []\n",
    "    with open(nb_file) as f:\n",
    "        nb = f.read().replace(\"\\n\",\"\").replace(\"\\\"\", \"\")\n",
    "        for question, query_list in zip(questions, queries):\n",
    "            query = re.findall(question + \"\\s*?=\\s*?'''(.+?)'''\", nb)\n",
    "            query = query[0].replace(\"\\\\n,\", \"\")\n",
    "            query = ' '.join(query.split())\n",
    "            query_list.append(query)\n",
    "        "
   ]
  },
  {
   "cell_type": "code",
   "execution_count": 54,
   "metadata": {},
   "outputs": [],
   "source": [
    "q1a, q1b, q1c, q1d, q2a, q2b, q2c = queries"
   ]
  },
  {
   "cell_type": "code",
   "execution_count": 55,
   "metadata": {},
   "outputs": [
    {
     "data": {
      "text/plain": [
       "[\"SELECT cmte_id, SUM(transaction_amt) AS total_amount, COUNT(*) as num_donations, cmte_nm FROM (SELECT * FROM indiv_sample_nyc INNER JOIN comm ON indiv_sample_nyc.cmte_id == comm.cmte_id) WHERE name LIKE '%TRUMP%' AND name LIKE '%DONALD%'AND name NOT LIKE '%INC%' GROUP BY cmte_id ORDER BY total_amount DESC\",\n",
       " \"SELECT a.cmte_id, SUM(a.transaction_amt) as total_amount, b.cmte_nm, COUNT(*) as num_donations FROM indiv_sample_nyc a, comm b WHERE a.cmte_id = b.cmte_id AND name LIKE '%TRUMP%' AND name LIKE '%DONALD%' AND name NOT LIKE 'DONALD J TRUMP FOR PRESIDENT INC' GROUP BY b.cmte_id\",\n",
       " \"SELECT a.cmte_id, SUM(transaction_amt) AS total_amount, COUNT(*) AS num_donations, cmte_nm FROM indiv_sample_nyc AS a, comm AS b WHERE name LIKE '%TRUMP%' AND name LIKE '%DONALD%' AND name NOT LIKE '%DONALD J TRUMP FOR PRESIDENT INC%' AND a.cmte_id = b.cmte_id GROUP BY a.cmte_id ORDER BY total_amount DESC\",\n",
       " \"SELECT indiv_sample_nyc.cmte_id, SUM(transaction_amt) as 'total_amount', COUNT(indiv_sample_nyc.cmte_id) as 'num_donations', cmte_nm FROM indiv_sample_nyc JOIN comm ON indiv_sample_nyc.cmte_id = comm.cmte_id WHERE name LIKE '%TRUMP%' AND name LIKE '%DONALD%' AND name NOT LIKE '%FOR PRESIDENT INC%' GROUP BY indiv_sample_nyc.cmte_id ORDER BY total_amount DESC\",\n",
       " \"SELECT indiv_sample_nyc.cmte_id, SUM(indiv_sample_nyc.transaction_amt) AS total_amount, COUNT(indiv_sample_nyc.transaction_amt) AS num_donations, comm.cmte_nm FROM indiv_sample_nyc INNER JOIN comm ON indiv_sample_nyc.cmte_id=comm.cmte_id WHERE indiv_sample_nyc.name LIKE '%TRUMP%' AND indiv_sample_nyc.name LIKE '%DONALD%' AND indiv_sample_nyc.name NOT LIKE '%DONALD J TRUMP FOR PRESIDENT INC' GROUP BY indiv_sample_nyc.cmte_id ORDER BY total_amount DESC\",\n",
       " \"SELECT cmte_id, total_amount, num_donations, cmte_nm FROM ( SELECT cmte_id AS id, SUM(transaction_amt) AS total_amount, COUNT(cmte_id) AS num_donations FROM indiv_sample_nyc WHERE name LIKE '%TRUMP%' AND name LIKE '%DONALD%' AND name NOT LIKE '%PRESIDENT%' GROUP BY cmte_id ORDER BY total_amount DESC ) AS q1C INNER JOIN comm ON q1C.id = comm.cmte_id ORDER BY total_amount DESC\",\n",
       " \"SELECT indiv_sample_nyc.cmte_id, comm.cmte_nm, COUNT(name) as num_donations, SUM(transaction_amt) as total_amount FROM indiv_sample_nyc INNER JOIN comm ON indiv_sample_nyc.cmte_id = comm.cmte_id WHERE name LIKE '%TRUMP%' AND name LIKE '%DONALD%' AND name NOT LIKE '%FOR%' AND name NOT LIKE '%PRESIDENT%' AND name NOT LIKE '%INC%' GROUP BY comm.cmte_id ORDER BY total_amount DESC;\",\n",
       " \"SELECT cmte_id, SUM(transaction_amt) AS total_amount, COUNT(*) AS num_donations, cmte_nm FROM indiv_sample_nyc INNER JOIN comm USING (cmte_id) WHERE name LIKE '%TRUMP%' AND name LIKE '%DONALD%'AND name NOT LIKE '%INC' GROUP BY cmte_id ORDER BY cmte_id DESC\",\n",
       " \"SELECT indiv_sample_nyc.cmte_id, (SELECT SUM(indiv_sample_nyc.transaction_amt) FROM indiv_sample_nyc WHERE name LIKE '%TRUMP%' and name LIKE '%DONALD%'and name NOT LIKE 'DONALD J TRUMP FOR PRESIDENT INC' GROUP BY indiv_sample_nyc.cmte_id) AS total_amount, (SELECT COUNT(indiv_sample_nyc.name) FROM indiv_sample_nyc WHERE name LIKE '%TRUMP%' and name LIKE '%DONALD%'and name NOT LIKE 'DONALD J TRUMP FOR PRESIDENT INC' GROUP BY indiv_sample_nyc.cmte_id) AS num_donations, comm.cmte_nm FROM indiv_sample_nyc JOIN comm ON indiv_sample_nyc.cmte_id = comm.cmte_id ORDER BY total_amount DESC\",\n",
       " \"SELECT indiv_sample_nyc.cmte_id, SUM(transaction_amt) AS total_amount, COUNT(*) AS num_donations, comm.cmte_nm FROM indiv_sample_nyc LEFT JOIN comm ON indiv_sample_nyc.cmte_id = comm.cmte_id WHERE name LIKE '%TRUMP%' AND name LIKE '%DONALD%' AND name NOT LIKE '%PRESIDENT%' GROUP BY indiv_sample_nyc.cmte_id ORDER BY total_amount DESC;\",\n",
       " \"SELECT indiv_sample_nyc.cmte_id, SUM(indiv_sample_nyc.transaction_amt) AS total_amount, COUNT(indiv_sample_nyc.cmte_id) AS num_donations, comm.cmte_nm FROM indiv_sample_nyc INNER JOIN comm ON indiv_sample_nyc.cmte_id=comm.cmte_id WHERE name LIKE '%TRUMP%' AND name LIKE '%DONALD%' AND name NOT LIKE \\\\%INC%\\\\ GROUP BY indiv_sample_nyc.cmte_id ORDER BY -total_amount\",\n",
       " \"SELECT indiv_sample_nyc.cmte_id, SUM(transaction_amt) AS total_amount, COUNT(*) AS num_donations, cmte_nm FROM indiv_sample_nyc JOIN comm ON indiv_sample_nyc.cmte_id = comm.cmte_id WHERE name NOT LIKE '%DONALD J TRUMP FOR PRESIDENT INC%' and name LIKE '%TRUMP%' AND name LIKE '%DONALD%' GROUP BY (indiv_sample_nyc.cmte_id) ORDER BY COUNT(transaction_amt) DESC\",\n",
       " \"SELECT indiv_sample_nyc.cmte_id, SUM(transaction_amt) AS total_amount, COUNT(name) AS num_donations, cmte_nm FROM indiv_sample_nyc INNER JOIN comm ON (indiv_sample_nyc.cmte_id = comm.cmte_id) WHERE name LIKE '%TRUMP%'AND name LIKE '%DONALD%'AND name NOT LIKE '%DONALD J TRUMP FOR PRESIDENT INC%' GROUP BY indiv_sample_nyc.cmte_id ORDER BY SUM(transaction_amt) DESC;\",\n",
       " \"SELECT og.cmte_id, SUM(og.transaction_amt) AS total_amount, COUNT(og.tran_id) AS num_donations, comm.cmte_nm FROM indiv_sample_nyc AS og LEFT JOIN comm ON og.cmte_id = comm.cmte_id WHERE name LIKE '%TRUMP%' AND name LIKE '%DONALD%' AND name NOT LIKE '%DONALD J TRUMP FOR PRESIDENT INC%' GROUP BY og.cmte_id ORDER BY total_amount desc\",\n",
       " \"SELECT cmte_id, SUM(transaction_amt) AS total_amount, COUNT(*) AS num_donations, cmte_nm FROM indiv_sample_nyc WHERE name LIKE '%TRUMP%' AND name LIKE '%DONALD%' AND name NOT LIKE '%FOR PRESIDENT%' AND cmte_nm IN( SELECT smte_nm FROM comm) GROUP BY cmte_id ORDER BY SUM(transaction_amt) DESC\"]"
      ]
     },
     "execution_count": 55,
     "metadata": {},
     "output_type": "execute_result"
    }
   ],
   "source": [
    "q1d"
   ]
  },
  {
   "cell_type": "code",
   "execution_count": null,
   "metadata": {},
   "outputs": [],
   "source": []
  }
 ],
 "metadata": {
  "kernelspec": {
   "display_name": "Python 3",
   "language": "python",
   "name": "python3"
  },
  "language_info": {
   "codemirror_mode": {
    "name": "ipython",
    "version": 3
   },
   "file_extension": ".py",
   "mimetype": "text/x-python",
   "name": "python",
   "nbconvert_exporter": "python",
   "pygments_lexer": "ipython3",
   "version": "3.8.1"
  }
 },
 "nbformat": 4,
 "nbformat_minor": 4
}
